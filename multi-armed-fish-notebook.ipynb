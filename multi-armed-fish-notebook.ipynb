{
 "cells": [
  {
   "cell_type": "code",
   "execution_count": 1,
   "metadata": {},
   "outputs": [],
   "source": [
    "# strategies\n",
    "\n",
    "### Note I don't have to do all of these, maybe pick 2-3 that seem the most interesting\n",
    "\n",
    "# Bayes approach, try a specific number of casts and select the one with the most fish\n",
    "\n",
    "    # if there are ties, you could just randomly choose one, or you could do tournament style\n",
    "\n",
    "    # between the tied lures\n",
    "\n",
    "# Cast until you catch a fish, or until another lure has caught a fish sooner\n",
    "\n",
    "# Make n casts until you don't catch a fish, then rotate\n",
    "\n",
    "#"
   ]
  },
  {
   "cell_type": "code",
   "execution_count": 2,
   "metadata": {},
   "outputs": [],
   "source": [
    "# make a cool visualization of the relationships between the various elements of the problem\n",
    "\n",
    " \n",
    "\n",
    "# e.g., shorter time frame, more earning, less learning\n",
    "\n",
    "# Closer payouts, harder to differentiate payouts, smaller difference between optimal strategy\n",
    "\n",
    "# Less frequent payouts, each unit of learning learns less\n",
    "\n",
    "# Switching cost, iterative learning is more expensive\n",
    "\n",
    "# moving payouts, learning gets dated and needs to be done again\n",
    "\n",
    "    #-- switching costs makes things even more complicated"
   ]
  },
  {
   "cell_type": "code",
   "execution_count": 240,
   "metadata": {},
   "outputs": [],
   "source": [
    "import numpy as np\n",
    "import random\n",
    "from matplotlib import pyplot as plt\n",
    "\n",
    " \n",
    "\n",
    "class MultiArmedFish():\n",
    "\n",
    "   \n",
    "\n",
    "    def __init__(self, lures, casts = 300):\n",
    "        \n",
    "        '''\n",
    "            lures (dict) : dictionary containing the name of a lure \n",
    "                           with its corresponding catch probability\n",
    "            casts (int)  : number of casts that will be taken in a given\n",
    "                           fishing trip\n",
    "        \n",
    "        '''\n",
    "\n",
    "        self.lures = lures\n",
    "        self.casts = casts\n",
    "\n",
    "        return\n",
    "    \n",
    "    def random_start(self, exclusions = []):\n",
    "        \n",
    "        '''\n",
    "            choose one lure from attribute lures and return it with its \n",
    "            catch probability\n",
    "            \n",
    "            inputs:\n",
    "                exclusions (list) : default = empty list - if populated\n",
    "                                    gives lures to exclude from random \n",
    "                                    start\n",
    "            \n",
    "            outputs:\n",
    "                random_lure (str) : dictionary key of randomly selected lure\n",
    "                catr_prob (float) : probability of catching a fish for each cast\n",
    "                                    with the lure (payout probability)\n",
    "            \n",
    "        '''\n",
    "        \n",
    "        if len(exclusions) == 0:\n",
    "            random_lure, catch_prob = random.choice(list(self.lures.items()))\n",
    "            \n",
    "        else:\n",
    "            # remove excluded lures from possible random starts by creating a new\n",
    "            # dictionary without them in it\n",
    "            temp_lures = {key: value for key, value in self.lures.items() if key not in exclusions}\n",
    "            random_lure, catch_prob = random.choice(list(temp_lures.items()))\n",
    "        \n",
    "        return random_lure, catch_prob\n",
    "\n",
    "   \n",
    "    def multiple_simulations(self, strategy, iterations, **kwargs):\n",
    "        \n",
    "        '''\n",
    "            Takes a strategy and runs in multiple times to get an \n",
    "            average number of catches for the strategy.\n",
    "            \n",
    "            inputs:\n",
    "                strategy (str)      : name of the strategy - each name\n",
    "                                      ties to a specific metric\n",
    "                iterations (int)    : number of scenarios or 'fishing trips'\n",
    "                                      to be run\n",
    "                other key word args : any additional arguments needed for \n",
    "                                      specific strategies\n",
    "        '''\n",
    "        \n",
    "        simulation_results = []\n",
    "        \n",
    "        for cast in range(0, iterations):\n",
    "            \n",
    "            if strategy == 'optimal':\n",
    "                \n",
    "                cast_success = self.optimal_strategy()\n",
    "                \n",
    "            elif strategy == 'one_round_learn':\n",
    "                \n",
    "                cast_success = self.one_round_learn(**kwargs)\n",
    "                \n",
    "            elif strategy == 'epsilon_greedy':\n",
    "                \n",
    "                cast_success = self.epsilon_greedy(**kwargs)\n",
    "                \n",
    "            elif strategy == 'random':\n",
    "                \n",
    "                cast_success = self.random()\n",
    "                \n",
    "            simulation_results.append(np.sum(cast_success))\n",
    "            \n",
    "        print(f'mean catch = {np.mean(simulation_results)}')\n",
    "        print(f'historgram of fish caught with {strategy} strategy')\n",
    "        plt.hist(simulation_results)\n",
    "        plt.show() \n",
    "        \n",
    "        return\n",
    "    \n",
    "    def simulate_cast(self, lure_pct, n = 1):\n",
    "        \n",
    "        '''\n",
    "            Simple function to simulate a single cast using uniform random\n",
    "            variable.\n",
    "            \n",
    "            inputs:\n",
    "                lure_pct (float) : probability of catching with a specific\n",
    "                                   lure\n",
    "                n (int)          : number of casts to be simulated\n",
    "                                   \n",
    "            outputs:\n",
    "                If n == 1:\n",
    "                    catch_bool (bool) : True for catch, False for no catch\n",
    "                If n > 1:\n",
    "                    cast_success (list) : list of booleans for all n casts\n",
    "        '''\n",
    "        \n",
    "        # run for single cast\n",
    "        if n == 1:\n",
    "            rand_num = np.random.uniform()\n",
    "                \n",
    "            if lure_pct >= rand_num:\n",
    "                catch_bool = True\n",
    "            \n",
    "            else:\n",
    "                catch_bool = False\n",
    "            \n",
    "            return catch_bool\n",
    "        \n",
    "        # run for multiple casts\n",
    "        if n > 1:\n",
    "            \n",
    "            # create array of uniform numbers\n",
    "            cast_values = np.random.uniform(size=n)\n",
    "            cast_success = np.where(lure_pct >= cast_values, True, False)\n",
    "            \n",
    "            return cast_success\n",
    "        \n",
    "    \n",
    "\n",
    "    def optimal_strategy(self):\n",
    "        \n",
    "        '''\n",
    "            Serves as the benchmark to compare all strategies to.\n",
    "            It simply selects the highest probability (which wouldn't be \n",
    "            known if practices) and only casts with that.\n",
    "            \n",
    "            inputs: None\n",
    "            outputs: \n",
    "                cast_success (list) : list of 1's and 0's representing if a cast\n",
    "                                      caught a fish or not\n",
    "        \n",
    "        '''\n",
    "\n",
    "        lure_with_max_payout = max(self.lures, key=lambda key: lures[key])\n",
    "        max_payout = self.lures[lure_with_max_payout]\n",
    "\n",
    "        cast_success = self.simulate_cast(max_payout, n = self.casts)\n",
    "   \n",
    "        return cast_success\n",
    "\n",
    "\n",
    "    def random(self):\n",
    "        \n",
    "        cast_success = []\n",
    "        \n",
    "        for cast in range(0, self.casts):\n",
    "            random_lure, catch_prob = self.random_start()\n",
    "            \n",
    "            temp_cast_bool = self.simulate_cast(catch_prob)\n",
    "            \n",
    "            cast_success.append(temp_cast_bool)\n",
    "            \n",
    "        return cast_success\n",
    "            \n",
    "\n",
    "    \n",
    "    # I should add a switch schedule, where we switch less frequently later in the\n",
    "    # simulation, like simulated annealing\n",
    "    def epsilon_greedy(self, epsilon):\n",
    "        \n",
    "        '''\n",
    "            Starts with a random lure and gathers data on it,\n",
    "            with a probability of epsilon at each cast, change the lure\n",
    "            and gather data.  With a probability of 1-epsilon go back to \n",
    "            the lure with the highest payout\n",
    "            \n",
    "            inputs:\n",
    "                epsilon (float) : probability used to randomly switch lures\n",
    "                \n",
    "            outputs:\n",
    "                cast_success (list) : list of 1's and 0's representing if a cast\n",
    "                                      caught a fish or not\n",
    "        \n",
    "        '''\n",
    "        \n",
    "        # create a dictionary to keep track of observed catches\n",
    "        obs_catch_dict = {}\n",
    "        \n",
    "        # start with a random lure\n",
    "        curr_lure, curr_lure_pct = self.random_start()\n",
    "        \n",
    "        # populate dictionary with the first lure - give it an empty list as\n",
    "        # the element\n",
    "        \n",
    "        # simulate the first cast\n",
    "        first_cast_bool = self.simulate_cast(curr_lure_pct)\n",
    "        cast_success = [first_cast_bool]\n",
    "        \n",
    "        # update dictionary to keep track of curr_lure's record\n",
    "        obs_catch_dict[curr_lure] = [first_cast_bool]\n",
    "        \n",
    "        \n",
    "        # for the remaining casts, use the epsilon-greedy approach\n",
    "        for cast in range(0, self.casts - 1):\n",
    "            \n",
    "            switch_prob = np.random.uniform()\n",
    "            \n",
    "            # random switch\n",
    "            if epsilon >= switch_prob:\n",
    "                \n",
    "                # switch lures randomly\n",
    "                curr_lure, curr_lure_pct = self.random_start(exclusions = [curr_lure])\n",
    "                \n",
    "                # simulate cast with switched lure\n",
    "                temp_cast_bool = self.simulate_cast(curr_lure_pct)\n",
    "                \n",
    "                cast_success.append(temp_cast_bool)\n",
    "                \n",
    "                if curr_lure in obs_catch_dict.keys():\n",
    "                    \n",
    "                    # add results from current cast to dictionary of catches\n",
    "                    temp_catch_list = obs_catch_dict[curr_lure]\n",
    "                    temp_catch_list.append(temp_cast_bool)\n",
    "                    obs_catch_dict[curr_lure] = temp_catch_list\n",
    "                    \n",
    "                else:\n",
    "                    \n",
    "                    # create a new element to keep track of lure's first cast\n",
    "                    obs_catch_dict[curr_lure] = [temp_cast_bool]\n",
    "            \n",
    "            # switch to lure with highest payout\n",
    "            else:\n",
    "                \n",
    "                # find lure with highest payout\n",
    "                temp_catch_pct_dict = {}\n",
    "                for lures, catches in obs_catch_dict.items():\n",
    "#                     print(lures)\n",
    "#                     print(obs_catch_dict)\n",
    "                    catch_pct = np.sum(catches)/len(catches)\n",
    "                    temp_catch_pct_dict[lures] = catch_pct\n",
    "                    \n",
    "                curr_lure = max(temp_catch_pct_dict, key=lambda key: temp_catch_pct_dict[key])\n",
    "                \n",
    "                \n",
    "                # simulate cast with switched lure\n",
    "                temp_cast_bool = self.simulate_cast(curr_lure_pct)\n",
    "                    \n",
    "                # add results from current cast to dictionary of catches\n",
    "                temp_catch_list = obs_catch_dict[curr_lure]\n",
    "                temp_catch_list.append(temp_cast_bool)\n",
    "                obs_catch_dict[curr_lure] = temp_catch_list\n",
    "                \n",
    "                cast_success.append(temp_cast_bool)\n",
    "                \n",
    "        \n",
    "        return cast_success\n",
    "                \n",
    "       \n",
    "\n",
    "    def one_round_learn(self, num_tests):\n",
    "\n",
    "        test_payouts = {}\n",
    "        cast_count = 0\n",
    "\n",
    "        # test each lure to decide which one to use for the\n",
    "        # rest of the casts\n",
    "        for lure in self.lures:\n",
    "\n",
    "            lure_pct = self.lures[lure]\n",
    "            catch_list = []\n",
    "\n",
    "            for test_cast in range(0, num_tests):\n",
    "\n",
    "                cast_count += 1\n",
    "                \n",
    "                catch_bool = self.simulate_cast(lure_pct)\n",
    "                catch_list.append(catch_bool)\n",
    "\n",
    "\n",
    "            # now that test for this lure is done, count successes\n",
    "            catches = np.sum(catch_list)\n",
    "            test_payouts[lure] = catches\n",
    "            \n",
    "        # get highest catching lure\n",
    "        best_lure = max(test_payouts, key=test_payouts.get)\n",
    "        best_lure_pct = lures[best_lure]\n",
    "\n",
    "        # now use remaining casts with the best lure from tests\n",
    "        for remaining_cast in range(0, self.casts - cast_count):\n",
    "                        \n",
    "            catch_bool_best = self.simulate_cast(best_lure_pct)\n",
    "            catch_list.append(catch_bool_best)\n",
    "\n",
    "            \n",
    "        catch_success = np.sum(catch_list)\n",
    "\n",
    "        return catch_list\n",
    "    \n",
    "    \n",
    "    # Time to first catch\n",
    "    def time_to_first_catch(self, early_stop):\n",
    "        \n",
    "        # fish with a lure until you catch one\n",
    "        # keep track of how long it took to catch\n",
    "        # switch lure and fish until catch another is caught,\n",
    "        # or it takes longer than the prior best\n",
    "        # early_stop switches to another lure if you have taken\n",
    "        # more than that many casts\n",
    "        \n",
    "        # randomly select a lure\n",
    "        random_lure, catch_prob = random.choice(list(self.lures.items()))\n",
    "        \n",
    "        return\n",
    "    \n",
    "    \n",
    "    def top_n(self, n):\n",
    "        \n",
    "        # finds top n performers and rotates through them\n",
    "        # a few time until it finds the best overall\n",
    "        \n",
    "        return\n",
    "\n"
   ]
  },
  {
   "cell_type": "code",
   "execution_count": 241,
   "metadata": {},
   "outputs": [],
   "source": [
    "lures = {'crank bait' : 0.2,\n",
    "         'spinner' : 0.01,\n",
    "         'soft plastic' : 0.15,\n",
    "         'rooster' : 0.10,\n",
    "         'jerk bait' : 0.05}"
   ]
  },
  {
   "cell_type": "code",
   "execution_count": 242,
   "metadata": {
    "scrolled": true
   },
   "outputs": [
    {
     "name": "stdout",
     "output_type": "stream",
     "text": [
      "mean catch = 60.293\n",
      "historgram of fish caught with optimal strategy\n"
     ]
    },
    {
     "data": {
      "image/png": "[encoded data removed]",
      "text/plain": [
       "<Figure size 432x288 with 1 Axes>"
      ]
     },
     "metadata": {
      "needs_background": "light"
     },
     "output_type": "display_data"
    }
   ],
   "source": [
    "casts = 300\n",
    "test_cast = MultiArmedFish(lures, casts)\n",
    "test_cast.multiple_simulations('optimal', 1000)"
   ]
  },
  {
   "cell_type": "code",
   "execution_count": 248,
   "metadata": {},
   "outputs": [
    {
     "name": "stdout",
     "output_type": "stream",
     "text": [
      "mean catch = 29.55\n",
      "historgram of fish caught with epsilon_greedy strategy\n"
     ]
    },
    {
     "data": {
      "image/png": "[encoded data removed]",
      "text/plain": [
       "<Figure size 432x288 with 1 Axes>"
      ]
     },
     "metadata": {
      "needs_background": "light"
     },
     "output_type": "display_data"
    }
   ],
   "source": [
    "test_cast.multiple_simulations('epsilon_greedy', 300, epsilon = 0.75)"
   ]
  },
  {
   "cell_type": "code",
   "execution_count": 249,
   "metadata": {},
   "outputs": [
    {
     "name": "stdout",
     "output_type": "stream",
     "text": [
      "mean catch = 30.336666666666666\n",
      "historgram of fish caught with random strategy\n"
     ]
    },
    {
     "data": {
      "image/png": "[encoded data removed]",
      "text/plain": [
       "<Figure size 432x288 with 1 Axes>"
      ]
     },
     "metadata": {
      "needs_background": "light"
     },
     "output_type": "display_data"
    }
   ],
   "source": [
    "test_cast.multiple_simulations('random', 300)"
   ]
  },
  {
   "cell_type": "code",
   "execution_count": 245,
   "metadata": {},
   "outputs": [
    {
     "name": "stdout",
     "output_type": "stream",
     "text": [
      "mean catch = 47.413333333333334\n",
      "historgram of fish caught with one_round_learn strategy\n"
     ]
    },
    {
     "data": {
      "image/png": "[encoded data removed]",
      "text/plain": [
       "<Figure size 432x288 with 1 Axes>"
      ]
     },
     "metadata": {
      "needs_background": "light"
     },
     "output_type": "display_data"
    }
   ],
   "source": [
    "test_cast.multiple_simulations('one_round_learn', 300, num_tests = 5)"
   ]
  },
  {
   "cell_type": "code",
   "execution_count": 246,
   "metadata": {},
   "outputs": [
    {
     "name": "stdout",
     "output_type": "stream",
     "text": [
      "mean catch = 49.083333333333336\n",
      "historgram of fish caught with one_round_learn strategy\n"
     ]
    },
    {
     "data": {
      "image/png": "[encoded data removed]",
      "text/plain": [
       "<Figure size 432x288 with 1 Axes>"
      ]
     },
     "metadata": {
      "needs_background": "light"
     },
     "output_type": "display_data"
    }
   ],
   "source": [
    "test_cast.multiple_simulations('one_round_learn', 300, num_tests = 3)"
   ]
  },
  {
   "cell_type": "code",
   "execution_count": null,
   "metadata": {},
   "outputs": [],
   "source": []
  },
  {
   "cell_type": "code",
   "execution_count": 250,
   "metadata": {},
   "outputs": [],
   "source": [
    "def test_func():\n",
    "    print('test func')"
   ]
  },
  {
   "cell_type": "code",
   "execution_count": 251,
   "metadata": {},
   "outputs": [],
   "source": [
    "def test1(func):\n",
    "    \n",
    "    func()"
   ]
  },
  {
   "cell_type": "code",
   "execution_count": 252,
   "metadata": {},
   "outputs": [
    {
     "name": "stdout",
     "output_type": "stream",
     "text": [
      "test func\n"
     ]
    }
   ],
   "source": [
    "test1(test_func)"
   ]
  },
  {
   "cell_type": "code",
   "execution_count": null,
   "metadata": {},
   "outputs": [],
   "source": []
  },
  {
   "cell_type": "code",
   "execution_count": null,
   "metadata": {},
   "outputs": [],
   "source": []
  }
 ],
 "metadata": {
  "kernelspec": {
   "display_name": "Python 3",
   "language": "python",
   "name": "python3"
  },
  "language_info": {
   "codemirror_mode": {
    "name": "ipython",
    "version": 3
   },
   "file_extension": ".py",
   "mimetype": "text/x-python",
   "name": "python",
   "nbconvert_exporter": "python",
   "pygments_lexer": "ipython3",
   "version": "3.7.6"
  }
 },
 "nbformat": 4,
 "nbformat_minor": 4
}
